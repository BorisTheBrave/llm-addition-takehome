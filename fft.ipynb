{
 "cells": [
  {
   "cell_type": "code",
   "execution_count": 6,
   "metadata": {},
   "outputs": [],
   "source": [
    "import torch\n",
    "import torch.nn as nn\n",
    "import numpy as np\n",
    "from tqdm import tqdm\n",
    "from nnsight import LanguageModel\n",
    "import matplotlib.pyplot as plt\n",
    "import pandas as pd\n",
    "import os\n",
    "from huggingface_hub import login\n",
    "import pickle\n",
    "from scipy.fft import fft, fftfreq\n",
    "import torch.optim as optim\n",
    "from sklearn.preprocessing import StandardScaler\n",
    "from sklearn.decomposition import PCA\n",
    "import json\n",
    "import itertools\n",
    "from matplotlib.patches import Wedge\n",
    "COL_WIDTH = 3.25\n",
    "TWO_COL_WIDTH = 6.75"
   ]
  },
  {
   "cell_type": "markdown",
   "metadata": {},
   "source": [
    "# Load Model"
   ]
  },
  {
   "cell_type": "code",
   "execution_count": 7,
   "metadata": {},
   "outputs": [
    {
     "name": "stderr",
     "output_type": "stream",
     "text": [
      "Some weights of the model checkpoint at EleutherAI/gpt-j-6B were not used when initializing GPTJForCausalLM: ['transformer.h.0.attn.bias', 'transformer.h.0.attn.masked_bias', 'transformer.h.1.attn.bias', 'transformer.h.1.attn.masked_bias', 'transformer.h.10.attn.bias', 'transformer.h.10.attn.masked_bias', 'transformer.h.11.attn.bias', 'transformer.h.11.attn.masked_bias', 'transformer.h.12.attn.bias', 'transformer.h.12.attn.masked_bias', 'transformer.h.13.attn.bias', 'transformer.h.13.attn.masked_bias', 'transformer.h.14.attn.bias', 'transformer.h.14.attn.masked_bias', 'transformer.h.15.attn.bias', 'transformer.h.15.attn.masked_bias', 'transformer.h.16.attn.bias', 'transformer.h.16.attn.masked_bias', 'transformer.h.17.attn.bias', 'transformer.h.17.attn.masked_bias', 'transformer.h.18.attn.bias', 'transformer.h.18.attn.masked_bias', 'transformer.h.19.attn.bias', 'transformer.h.19.attn.masked_bias', 'transformer.h.2.attn.bias', 'transformer.h.2.attn.masked_bias', 'transformer.h.20.attn.bias', 'transformer.h.20.attn.masked_bias', 'transformer.h.21.attn.bias', 'transformer.h.21.attn.masked_bias', 'transformer.h.22.attn.bias', 'transformer.h.22.attn.masked_bias', 'transformer.h.23.attn.bias', 'transformer.h.23.attn.masked_bias', 'transformer.h.24.attn.bias', 'transformer.h.24.attn.masked_bias', 'transformer.h.25.attn.bias', 'transformer.h.25.attn.masked_bias', 'transformer.h.26.attn.bias', 'transformer.h.26.attn.masked_bias', 'transformer.h.27.attn.bias', 'transformer.h.27.attn.masked_bias', 'transformer.h.3.attn.bias', 'transformer.h.3.attn.masked_bias', 'transformer.h.4.attn.bias', 'transformer.h.4.attn.masked_bias', 'transformer.h.5.attn.bias', 'transformer.h.5.attn.masked_bias', 'transformer.h.6.attn.bias', 'transformer.h.6.attn.masked_bias', 'transformer.h.7.attn.bias', 'transformer.h.7.attn.masked_bias', 'transformer.h.8.attn.bias', 'transformer.h.8.attn.masked_bias', 'transformer.h.9.attn.bias', 'transformer.h.9.attn.masked_bias']\n",
      "- This IS expected if you are initializing GPTJForCausalLM from the checkpoint of a model trained on another task or with another architecture (e.g. initializing a BertForSequenceClassification model from a BertForPreTraining model).\n",
      "- This IS NOT expected if you are initializing GPTJForCausalLM from the checkpoint of a model that you expect to be exactly identical (initializing a BertForSequenceClassification model from a BertForSequenceClassification model).\n"
     ]
    }
   ],
   "source": [
    "# Load model# Set the token as an environment variable\n",
    "device = torch.device(\"cuda\" if torch.cuda.is_available() else \"cpu\")\n",
    "full_model_name = 'EleutherAI/gpt-j-6B' #'EleutherAI/pythia-6.9b'## # #'google/gemma-2-9b'#'##\n",
    "MODEL_NAME = full_model_name.split('/')[-1]\n",
    "model = LanguageModel(full_model_name, device_map=device, torch_dtype=torch.bfloat16, dispatch=True)\n",
    "remote = False\n",
    "NLAYERS = model.config.num_hidden_layers\n",
    "datapath = 'llm-addition/experimentation/data'\n",
    "dataadditionpath = 'llm-addition/experimentation/data_addition'"
   ]
  },
  {
   "cell_type": "code",
   "execution_count": 1,
   "metadata": {},
   "outputs": [],
   "source": [
    "layer = 3"
   ]
  },
  {
   "cell_type": "markdown",
   "metadata": {},
   "source": [
    "# Figure 2\n"
   ]
  },
  {
   "cell_type": "code",
   "execution_count": null,
   "metadata": {},
   "outputs": [],
   "source": []
  },
  {
   "cell_type": "code",
   "execution_count": 8,
   "metadata": {},
   "outputs": [
    {
     "name": "stderr",
     "output_type": "stream",
     "text": [
      "You're using a GPT2TokenizerFast tokenizer. Please note that with a fast tokenizer, using the `__call__` method is faster than using a method to encode the text followed by a call to the `pad` method to get a padded encoding.\n"
     ]
    }
   ],
   "source": [
    "plt.rcParams.update({\n",
    "    'font.size': 8,               # Default text size\n",
    "    'axes.titlesize': 7,          # Title size for axes\n",
    "    'axes.labelsize': 7,          # Axis label size\n",
    "    'xtick.labelsize': 6,         # X-axis tick label size\n",
    "    'ytick.labelsize': 6,         # Y-axis tick label size\n",
    "    'legend.fontsize': 7,         # Legend font size\n",
    "    'figure.titlesize': 10,        # Overall figure title size\n",
    "})\n",
    "def get_nums_hss(mina = 0,maxa = 99):\n",
    "    nums = np.linspace(mina, maxa, maxa-mina+1)\n",
    "    tokens = torch.tensor(model.tokenizer([f'{int(num)}' for num in nums])['input_ids'])\n",
    "    activations = []\n",
    "    with torch.no_grad():\n",
    "        with model.trace(validate=False,remote=remote) as tracer:\n",
    "            with tracer.invoke(tokens, scan=False):\n",
    "                for layer in range(NLAYERS):\n",
    "                    activations.append(model.transformer.h[layer].inputs[1]['hidden_states'][:,-1].save())\n",
    "    act = torch.stack(activations).detach().cpu()\n",
    "    return nums, act\n",
    "\n",
    "mina = 1\n",
    "maxa = 360\n",
    "a, hss = get_nums_hss(mina, maxa)\n"
   ]
  },
  {
   "cell_type": "code",
   "execution_count": 18,
   "metadata": {},
   "outputs": [],
   "source": [
    "# Fit a sin/cos to the data\n",
    "#a = np.linspace(mina, maxa, maxa-mina+1)\n",
    "\n",
    "from sklearn.linear_model import LinearRegression\n",
    "\n",
    "\n",
    "def fit_sin_cos(a, hss, period, layer, is_log):\n",
    "    if is_log:\n",
    "        t = np.log(a)\n",
    "        sina = np.sin(t / np.log(period) * 2*np.pi)\n",
    "        cosa = np.cos(t / np.log(period) * 2*np.pi)\n",
    "    else:\n",
    "        t = a/period\n",
    "        sina = np.sin(t * 2*np.pi)\n",
    "        cosa = np.cos(t * 2*np.pi)\n",
    "    X = np.stack([sina, cosa], axis = 1)\n",
    "\n",
    "    lr = LinearRegression()\n",
    "    y = hss[layer]\n",
    "    lr.fit(X, y)\n",
    "    r2 = lr.score(X, y)\n",
    "\n",
    "    # r2s = []\n",
    "    # NHIDDEN = hss.shape[2]\n",
    "    # for h in range(NHIDDEN):\n",
    "    #     lr = LinearRegression()\n",
    "    #     y = hss[layer,:,h]\n",
    "    #     lr.fit(X, y)\n",
    "    #     r2s.append(lr.score(X, y))\n",
    "    # r2 = np.mean(r2s)\n",
    "    return r2\n",
    "\n",
    "\n",
    "\n",
    "def ff(mina = 0, maxa = 500, layer = 0, is_log = False, periods = None, periods_to_label = []):\n",
    "    \n",
    "    nums, hss = get_nums_hss(mina, maxa)\n",
    "    hss_np = hss.float().cpu().numpy()\n",
    "    hss_centered = hss_np# - np.mean(hss_np, axis=0, keepdims=True)\n",
    "\n",
    "    if periods is None:\n",
    "        periods = range(mina, maxa+1)\n",
    "    r2s = [fit_sin_cos(nums,hss_np,period, layer, is_log) for period in tqdm(periods)]\n",
    "\n",
    "    plt.figure(figsize=(1.25*COL_WIDTH, 1.25*0.325*COL_WIDTH))\n",
    "    plt.plot(periods, r2s,label = f'Log Frequency Fit' if is_log else 'Frequency Fit', color = 'b')\n",
    "    plt.xlabel('Period')\n",
    "    plt.ylabel('R2')\n",
    "    plt.xticks()\n",
    "    plt.yticks()\n",
    "    \n",
    "    # Label specific periods\n",
    "    for period in periods_to_label:\n",
    "        # Find the closest frequency in our data\n",
    "        idx = np.argmin(np.abs(periods - period))\n",
    "        mag = r2s[idx]\n",
    "        plt.annotate(f'T={period}', \n",
    "                    xy=(period, mag),\n",
    "                    xytext=(4, 4),\n",
    "                    textcoords='offset points',\n",
    "                    ha='left',\n",
    "                    va='bottom',\n",
    "                    bbox=dict(boxstyle='round,pad=0.1', fc='yellow', alpha=0.5),\n",
    "                    arrowprops=dict(arrowstyle='->', connectionstyle='arc3,rad=0'))\n",
    "\n",
    "    plt.grid(True)\n",
    "    plt.legend()\n",
    "    plt.tight_layout()\n",
    "    plt.title(f'Periodicity analysis for layer {layer}')\n",
    "    #plt.savefig(f'paper_figures/figure_2/fourier_{MODEL_NAME}.pdf', dpi =300, bbox_inches = 'tight')\n",
    "    plt.show()\n"
   ]
  },
  {
   "cell_type": "code",
   "execution_count": 85,
   "metadata": {},
   "outputs": [],
   "source": [
    "\n",
    "# ff(mina = 1, maxa = 360, layer = 1, is_log = False)\n",
    "\n"
   ]
  },
  {
   "cell_type": "code",
   "execution_count": 86,
   "metadata": {},
   "outputs": [],
   "source": [
    "# ff(mina = 1, maxa = 30, layer = 1, is_log = False)"
   ]
  },
  {
   "cell_type": "code",
   "execution_count": 14,
   "metadata": {},
   "outputs": [
    {
     "name": "stderr",
     "output_type": "stream",
     "text": [
      "100%|██████████| 18/18 [00:03<00:00,  5.09it/s]\n"
     ]
    },
    {
     "data": {
      "image/png": "[encoded data removed]",
      "text/plain": [
       "<Figure size 406.25x132.031 with 1 Axes>"
      ]
     },
     "metadata": {},
     "output_type": "display_data"
    }
   ],
   "source": [
    "ff(mina = 1, maxa = 99, layer = layer, is_log = True, periods = range(2, 20))"
   ]
  },
  {
   "cell_type": "code",
   "execution_count": 19,
   "metadata": {},
   "outputs": [
    {
     "name": "stderr",
     "output_type": "stream",
     "text": [
      "100%|██████████| 300/300 [01:01<00:00,  4.90it/s]\n"
     ]
    },
    {
     "data": {
      "image/png": "[encoded data removed]",
      "text/plain": [
       "<Figure size 406.25x132.031 with 1 Axes>"
      ]
     },
     "metadata": {},
     "output_type": "display_data"
    }
   ],
   "source": [
    "ff(mina = 1, maxa = 99, layer = layer, is_log = True, periods = np.logspace(np.log10(1.01), np.log10(5), 300), periods_to_label=[])"
   ]
  },
  {
   "cell_type": "code",
   "execution_count": null,
   "metadata": {},
   "outputs": [],
   "source": []
  }
 ],
 "metadata": {
  "kernelspec": {
   "display_name": "main",
   "language": "python",
   "name": "python3"
  },
  "language_info": {
   "codemirror_mode": {
    "name": "ipython",
    "version": 3
   },
   "file_extension": ".py",
   "mimetype": "text/x-python",
   "name": "python",
   "nbconvert_exporter": "python",
   "pygments_lexer": "ipython3",
   "version": "3.10.12"
  }
 },
 "nbformat": 4,
 "nbformat_minor": 2
}
